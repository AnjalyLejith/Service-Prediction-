{
 "cells": [
  {
   "cell_type": "markdown",
   "metadata": {},
   "source": [
    "### Problem Statement:Predict whether a vehicle requires service given service parameters.\n"
   ]
  },
  {
   "cell_type": "markdown",
   "metadata": {},
   "source": [
    "#### The problem is a classification problem as it is based on the decision variable Service\n",
    "#### Features would be Oil Quality,Engine Performance,NormMileage,TyreWear,HVACWear and label would be Service"
   ]
  },
  {
   "cell_type": "code",
   "execution_count": 1,
   "metadata": {},
   "outputs": [],
   "source": [
    "import pandas as pd\n",
    "import numpy as np\n",
    "from sklearn.model_selection import train_test_split\n",
    "from sklearn.linear_model import LogisticRegression\n",
    "from sklearn.metrics import confusion_matrix,accuracy_score,classification_report\n",
    "from sklearn.neighbors import KNeighborsClassifier\n",
    "import seaborn as sns\n",
    "import matplotlib.pyplot as plt\n",
    "import statsmodels.api as sm\n",
    "from sklearn.decomposition import PCA\n",
    "from sklearn.pipeline import Pipeline\n",
    "from sklearn.model_selection import GridSearchCV\n",
    "from sklearn.preprocessing import StandardScaler\n",
    "from sklearn import linear_model, decomposition, datasets\n",
    "import warnings\n",
    "warnings.filterwarnings(\"ignore\")"
   ]
  },
  {
   "cell_type": "code",
   "execution_count": 2,
   "metadata": {},
   "outputs": [
    {
     "data": {
      "text/html": [
       "<div>\n",
       "<style scoped>\n",
       "    .dataframe tbody tr th:only-of-type {\n",
       "        vertical-align: middle;\n",
       "    }\n",
       "\n",
       "    .dataframe tbody tr th {\n",
       "        vertical-align: top;\n",
       "    }\n",
       "\n",
       "    .dataframe thead th {\n",
       "        text-align: right;\n",
       "    }\n",
       "</style>\n",
       "<table border=\"1\" class=\"dataframe\">\n",
       "  <thead>\n",
       "    <tr style=\"text-align: right;\">\n",
       "      <th></th>\n",
       "      <th>OilQual</th>\n",
       "      <th>EnginePerf</th>\n",
       "      <th>NormMileage</th>\n",
       "      <th>TyreWear</th>\n",
       "      <th>HVACwear</th>\n",
       "      <th>Service</th>\n",
       "    </tr>\n",
       "  </thead>\n",
       "  <tbody>\n",
       "    <tr>\n",
       "      <th>0</th>\n",
       "      <td>45.773338</td>\n",
       "      <td>49.936615</td>\n",
       "      <td>49.777581</td>\n",
       "      <td>48.263851</td>\n",
       "      <td>50.952072</td>\n",
       "      <td>No</td>\n",
       "    </tr>\n",
       "    <tr>\n",
       "      <th>1</th>\n",
       "      <td>4.987185</td>\n",
       "      <td>7.891003</td>\n",
       "      <td>6.588986</td>\n",
       "      <td>9.493161</td>\n",
       "      <td>3.240262</td>\n",
       "      <td>No</td>\n",
       "    </tr>\n",
       "    <tr>\n",
       "      <th>2</th>\n",
       "      <td>4.987185</td>\n",
       "      <td>4.891003</td>\n",
       "      <td>7.308986</td>\n",
       "      <td>8.373161</td>\n",
       "      <td>2.780262</td>\n",
       "      <td>No</td>\n",
       "    </tr>\n",
       "    <tr>\n",
       "      <th>3</th>\n",
       "      <td>106.388821</td>\n",
       "      <td>104.454032</td>\n",
       "      <td>103.051485</td>\n",
       "      <td>106.282658</td>\n",
       "      <td>105.536843</td>\n",
       "      <td>No</td>\n",
       "    </tr>\n",
       "    <tr>\n",
       "      <th>4</th>\n",
       "      <td>104.388821</td>\n",
       "      <td>103.744032</td>\n",
       "      <td>103.051485</td>\n",
       "      <td>106.132658</td>\n",
       "      <td>105.776843</td>\n",
       "      <td>No</td>\n",
       "    </tr>\n",
       "    <tr>\n",
       "      <th>...</th>\n",
       "      <td>...</td>\n",
       "      <td>...</td>\n",
       "      <td>...</td>\n",
       "      <td>...</td>\n",
       "      <td>...</td>\n",
       "      <td>...</td>\n",
       "    </tr>\n",
       "    <tr>\n",
       "      <th>130</th>\n",
       "      <td>103.388821</td>\n",
       "      <td>103.934032</td>\n",
       "      <td>102.941485</td>\n",
       "      <td>106.172658</td>\n",
       "      <td>105.536843</td>\n",
       "      <td>No</td>\n",
       "    </tr>\n",
       "    <tr>\n",
       "      <th>131</th>\n",
       "      <td>5.987185</td>\n",
       "      <td>6.081003</td>\n",
       "      <td>6.588986</td>\n",
       "      <td>8.373161</td>\n",
       "      <td>0.370262</td>\n",
       "      <td>No</td>\n",
       "    </tr>\n",
       "    <tr>\n",
       "      <th>132</th>\n",
       "      <td>25.385516</td>\n",
       "      <td>27.418265</td>\n",
       "      <td>32.309536</td>\n",
       "      <td>30.036162</td>\n",
       "      <td>31.311275</td>\n",
       "      <td>Yes</td>\n",
       "    </tr>\n",
       "    <tr>\n",
       "      <th>133</th>\n",
       "      <td>45.533338</td>\n",
       "      <td>49.666615</td>\n",
       "      <td>49.347581</td>\n",
       "      <td>51.263851</td>\n",
       "      <td>47.922072</td>\n",
       "      <td>No</td>\n",
       "    </tr>\n",
       "    <tr>\n",
       "      <th>134</th>\n",
       "      <td>104.388821</td>\n",
       "      <td>104.504032</td>\n",
       "      <td>102.461485</td>\n",
       "      <td>106.172658</td>\n",
       "      <td>105.536843</td>\n",
       "      <td>No</td>\n",
       "    </tr>\n",
       "  </tbody>\n",
       "</table>\n",
       "<p>135 rows × 6 columns</p>\n",
       "</div>"
      ],
      "text/plain": [
       "        OilQual  EnginePerf  NormMileage    TyreWear    HVACwear Service\n",
       "0     45.773338   49.936615    49.777581   48.263851   50.952072      No\n",
       "1      4.987185    7.891003     6.588986    9.493161    3.240262      No\n",
       "2      4.987185    4.891003     7.308986    8.373161    2.780262      No\n",
       "3    106.388821  104.454032   103.051485  106.282658  105.536843      No\n",
       "4    104.388821  103.744032   103.051485  106.132658  105.776843      No\n",
       "..          ...         ...          ...         ...         ...     ...\n",
       "130  103.388821  103.934032   102.941485  106.172658  105.536843      No\n",
       "131    5.987185    6.081003     6.588986    8.373161    0.370262      No\n",
       "132   25.385516   27.418265    32.309536   30.036162   31.311275     Yes\n",
       "133   45.533338   49.666615    49.347581   51.263851   47.922072      No\n",
       "134  104.388821  104.504032   102.461485  106.172658  105.536843      No\n",
       "\n",
       "[135 rows x 6 columns]"
      ]
     },
     "execution_count": 2,
     "metadata": {},
     "output_type": "execute_result"
    }
   ],
   "source": [
    "service_data=pd.read_csv('ServiceTest.csv')\n",
    "service_data"
   ]
  },
  {
   "cell_type": "markdown",
   "metadata": {},
   "source": [
    "#### Examining the dataset,the data types assigned looks correct"
   ]
  },
  {
   "cell_type": "code",
   "execution_count": 3,
   "metadata": {},
   "outputs": [
    {
     "name": "stdout",
     "output_type": "stream",
     "text": [
      "<class 'pandas.core.frame.DataFrame'>\n",
      "RangeIndex: 135 entries, 0 to 134\n",
      "Data columns (total 6 columns):\n",
      " #   Column       Non-Null Count  Dtype  \n",
      "---  ------       --------------  -----  \n",
      " 0   OilQual      135 non-null    float64\n",
      " 1   EnginePerf   135 non-null    float64\n",
      " 2   NormMileage  135 non-null    float64\n",
      " 3   TyreWear     135 non-null    float64\n",
      " 4   HVACwear     135 non-null    float64\n",
      " 5   Service      135 non-null    object \n",
      "dtypes: float64(5), object(1)\n",
      "memory usage: 6.5+ KB\n"
     ]
    }
   ],
   "source": [
    "service_data.info()"
   ]
  },
  {
   "cell_type": "code",
   "execution_count": 4,
   "metadata": {},
   "outputs": [
    {
     "data": {
      "text/plain": [
       "OilQual        0\n",
       "EnginePerf     0\n",
       "NormMileage    0\n",
       "TyreWear       0\n",
       "HVACwear       0\n",
       "Service        0\n",
       "dtype: int64"
      ]
     },
     "execution_count": 4,
     "metadata": {},
     "output_type": "execute_result"
    }
   ],
   "source": [
    "service_data.isnull().sum()"
   ]
  },
  {
   "cell_type": "markdown",
   "metadata": {},
   "source": [
    "##### There are no null values in the dataset"
   ]
  },
  {
   "cell_type": "markdown",
   "metadata": {},
   "source": [
    "#### No duplicate records found"
   ]
  },
  {
   "cell_type": "code",
   "execution_count": 5,
   "metadata": {},
   "outputs": [
    {
     "data": {
      "text/plain": [
       "0"
      ]
     },
     "execution_count": 5,
     "metadata": {},
     "output_type": "execute_result"
    }
   ],
   "source": [
    "duplicate = service_data[service_data.duplicated()] \n",
    "len(duplicate)"
   ]
  },
  {
   "cell_type": "code",
   "execution_count": 6,
   "metadata": {},
   "outputs": [
    {
     "data": {
      "text/plain": [
       "No     73.333333\n",
       "Yes    26.666667\n",
       "Name: Service, dtype: float64"
      ]
     },
     "execution_count": 6,
     "metadata": {},
     "output_type": "execute_result"
    }
   ],
   "source": [
    "#Imbalanced Dataset\n",
    "#Ideally should balance dataset and do the classification\n",
    "service_data['Service'].value_counts(normalize=True)*100"
   ]
  },
  {
   "cell_type": "markdown",
   "metadata": {},
   "source": [
    "#### Percentage of vehicles that require service is 27% and rest 73% does not require service.This means dataset is imbalanced"
   ]
  },
  {
   "cell_type": "markdown",
   "metadata": {},
   "source": [
    "### Inference 1:The dataset is an imbalanced dataset and hence would be biased.Ideally imbalanced datasets should be corrected by Sampling techniques/SMOTE/XG Boost before doing modeling for a good accuracy.\n",
    "### Here I used the same imbalanced dataset but used corresponding metrics like F1 Score and AUC Score for determining goodness of model."
   ]
  },
  {
   "cell_type": "code",
   "execution_count": 7,
   "metadata": {},
   "outputs": [
    {
     "data": {
      "text/html": [
       "<div>\n",
       "<style scoped>\n",
       "    .dataframe tbody tr th:only-of-type {\n",
       "        vertical-align: middle;\n",
       "    }\n",
       "\n",
       "    .dataframe tbody tr th {\n",
       "        vertical-align: top;\n",
       "    }\n",
       "\n",
       "    .dataframe thead th {\n",
       "        text-align: right;\n",
       "    }\n",
       "</style>\n",
       "<table border=\"1\" class=\"dataframe\">\n",
       "  <thead>\n",
       "    <tr style=\"text-align: right;\">\n",
       "      <th></th>\n",
       "      <th>count</th>\n",
       "      <th>mean</th>\n",
       "      <th>std</th>\n",
       "      <th>min</th>\n",
       "      <th>25%</th>\n",
       "      <th>50%</th>\n",
       "      <th>75%</th>\n",
       "      <th>max</th>\n",
       "    </tr>\n",
       "  </thead>\n",
       "  <tbody>\n",
       "    <tr>\n",
       "      <th>OilQual</th>\n",
       "      <td>135.0</td>\n",
       "      <td>58.629380</td>\n",
       "      <td>38.858638</td>\n",
       "      <td>2.597185</td>\n",
       "      <td>26.695516</td>\n",
       "      <td>61.023282</td>\n",
       "      <td>104.228821</td>\n",
       "      <td>106.388821</td>\n",
       "    </tr>\n",
       "    <tr>\n",
       "      <th>EnginePerf</th>\n",
       "      <td>135.0</td>\n",
       "      <td>59.077366</td>\n",
       "      <td>38.603943</td>\n",
       "      <td>1.891003</td>\n",
       "      <td>27.418265</td>\n",
       "      <td>61.501061</td>\n",
       "      <td>103.744032</td>\n",
       "      <td>105.744032</td>\n",
       "    </tr>\n",
       "    <tr>\n",
       "      <th>NormMileage</th>\n",
       "      <td>135.0</td>\n",
       "      <td>59.118254</td>\n",
       "      <td>37.461473</td>\n",
       "      <td>3.588986</td>\n",
       "      <td>31.259536</td>\n",
       "      <td>59.350883</td>\n",
       "      <td>103.051485</td>\n",
       "      <td>105.051485</td>\n",
       "    </tr>\n",
       "    <tr>\n",
       "      <th>TyreWear</th>\n",
       "      <td>135.0</td>\n",
       "      <td>60.863823</td>\n",
       "      <td>38.445306</td>\n",
       "      <td>6.143161</td>\n",
       "      <td>28.901162</td>\n",
       "      <td>61.304031</td>\n",
       "      <td>106.172658</td>\n",
       "      <td>108.172658</td>\n",
       "    </tr>\n",
       "    <tr>\n",
       "      <th>HVACwear</th>\n",
       "      <td>135.0</td>\n",
       "      <td>58.986136</td>\n",
       "      <td>40.000363</td>\n",
       "      <td>-1.719738</td>\n",
       "      <td>31.311275</td>\n",
       "      <td>62.620518</td>\n",
       "      <td>105.331843</td>\n",
       "      <td>105.826843</td>\n",
       "    </tr>\n",
       "  </tbody>\n",
       "</table>\n",
       "</div>"
      ],
      "text/plain": [
       "             count       mean        std       min        25%        50%  \\\n",
       "OilQual      135.0  58.629380  38.858638  2.597185  26.695516  61.023282   \n",
       "EnginePerf   135.0  59.077366  38.603943  1.891003  27.418265  61.501061   \n",
       "NormMileage  135.0  59.118254  37.461473  3.588986  31.259536  59.350883   \n",
       "TyreWear     135.0  60.863823  38.445306  6.143161  28.901162  61.304031   \n",
       "HVACwear     135.0  58.986136  40.000363 -1.719738  31.311275  62.620518   \n",
       "\n",
       "                    75%         max  \n",
       "OilQual      104.228821  106.388821  \n",
       "EnginePerf   103.744032  105.744032  \n",
       "NormMileage  103.051485  105.051485  \n",
       "TyreWear     106.172658  108.172658  \n",
       "HVACwear     105.331843  105.826843  "
      ]
     },
     "execution_count": 7,
     "metadata": {},
     "output_type": "execute_result"
    }
   ],
   "source": [
    "service_data.describe().transpose()"
   ]
  },
  {
   "cell_type": "markdown",
   "metadata": {},
   "source": [
    "### Inference 2: After checking skewness ,all of the variables have skewness close to zero and hence fairly symmetrical and normally distributed.No outliers."
   ]
  },
  {
   "cell_type": "code",
   "execution_count": 8,
   "metadata": {},
   "outputs": [
    {
     "data": {
      "text/plain": [
       "OilQual       -0.051592\n",
       "EnginePerf    -0.127475\n",
       "NormMileage   -0.088704\n",
       "TyreWear      -0.025223\n",
       "HVACwear      -0.146630\n",
       "dtype: float64"
      ]
     },
     "execution_count": 8,
     "metadata": {},
     "output_type": "execute_result"
    }
   ],
   "source": [
    "service_data.skew(axis=0)"
   ]
  },
  {
   "cell_type": "markdown",
   "metadata": {},
   "source": [
    "### Inference 3: The correlation matrix shows multicollinearity among all the attributes.when multicollinearity is present in the data,the statistical inferences made about the data may not be reliable.\n",
    "### To avoid multicollinearity it is good to drop some of the variables while using them for modeling or apply PCA before modeling.PCA reduces/adjusts features in such a way that the resultant features are not correlated"
   ]
  },
  {
   "cell_type": "code",
   "execution_count": 9,
   "metadata": {},
   "outputs": [
    {
     "data": {
      "text/html": [
       "<div>\n",
       "<style scoped>\n",
       "    .dataframe tbody tr th:only-of-type {\n",
       "        vertical-align: middle;\n",
       "    }\n",
       "\n",
       "    .dataframe tbody tr th {\n",
       "        vertical-align: top;\n",
       "    }\n",
       "\n",
       "    .dataframe thead th {\n",
       "        text-align: right;\n",
       "    }\n",
       "</style>\n",
       "<table border=\"1\" class=\"dataframe\">\n",
       "  <thead>\n",
       "    <tr style=\"text-align: right;\">\n",
       "      <th></th>\n",
       "      <th>OilQual</th>\n",
       "      <th>EnginePerf</th>\n",
       "      <th>NormMileage</th>\n",
       "      <th>TyreWear</th>\n",
       "      <th>HVACwear</th>\n",
       "    </tr>\n",
       "  </thead>\n",
       "  <tbody>\n",
       "    <tr>\n",
       "      <th>OilQual</th>\n",
       "      <td>1.000000</td>\n",
       "      <td>0.998319</td>\n",
       "      <td>0.997806</td>\n",
       "      <td>0.999025</td>\n",
       "      <td>0.997562</td>\n",
       "    </tr>\n",
       "    <tr>\n",
       "      <th>EnginePerf</th>\n",
       "      <td>0.998319</td>\n",
       "      <td>1.000000</td>\n",
       "      <td>0.998801</td>\n",
       "      <td>0.998289</td>\n",
       "      <td>0.998555</td>\n",
       "    </tr>\n",
       "    <tr>\n",
       "      <th>NormMileage</th>\n",
       "      <td>0.997806</td>\n",
       "      <td>0.998801</td>\n",
       "      <td>1.000000</td>\n",
       "      <td>0.998180</td>\n",
       "      <td>0.998794</td>\n",
       "    </tr>\n",
       "    <tr>\n",
       "      <th>TyreWear</th>\n",
       "      <td>0.999025</td>\n",
       "      <td>0.998289</td>\n",
       "      <td>0.998180</td>\n",
       "      <td>1.000000</td>\n",
       "      <td>0.997291</td>\n",
       "    </tr>\n",
       "    <tr>\n",
       "      <th>HVACwear</th>\n",
       "      <td>0.997562</td>\n",
       "      <td>0.998555</td>\n",
       "      <td>0.998794</td>\n",
       "      <td>0.997291</td>\n",
       "      <td>1.000000</td>\n",
       "    </tr>\n",
       "  </tbody>\n",
       "</table>\n",
       "</div>"
      ],
      "text/plain": [
       "              OilQual  EnginePerf  NormMileage  TyreWear  HVACwear\n",
       "OilQual      1.000000    0.998319     0.997806  0.999025  0.997562\n",
       "EnginePerf   0.998319    1.000000     0.998801  0.998289  0.998555\n",
       "NormMileage  0.997806    0.998801     1.000000  0.998180  0.998794\n",
       "TyreWear     0.999025    0.998289     0.998180  1.000000  0.997291\n",
       "HVACwear     0.997562    0.998555     0.998794  0.997291  1.000000"
      ]
     },
     "execution_count": 9,
     "metadata": {},
     "output_type": "execute_result"
    }
   ],
   "source": [
    "service_data.corr()"
   ]
  },
  {
   "cell_type": "markdown",
   "metadata": {},
   "source": [
    "#### The pairplot shows the same multicollinearity and distribution."
   ]
  },
  {
   "cell_type": "code",
   "execution_count": 10,
   "metadata": {},
   "outputs": [
    {
     "data": {
      "text/plain": [
       "<seaborn.axisgrid.PairGrid at 0x2068b6efe80>"
      ]
     },
     "execution_count": 10,
     "metadata": {},
     "output_type": "execute_result"
    },
    {
     "data": {
      "image/png": "[encoded data removed]",
      "text/plain": [
       "<Figure size 952x900 with 30 Axes>"
      ]
     },
     "metadata": {
      "needs_background": "light"
     },
     "output_type": "display_data"
    }
   ],
   "source": [
    "sns.pairplot(service_data,diag_kind='kde',hue='Service')"
   ]
  },
  {
   "cell_type": "markdown",
   "metadata": {},
   "source": [
    "#### Calculate Variable Inflation Factor(VIF) to confirm multicollinearity.VIF values>5 shows multicollinearity"
   ]
  },
  {
   "cell_type": "code",
   "execution_count": 11,
   "metadata": {},
   "outputs": [],
   "source": [
    "from statsmodels.stats.outliers_influence import variance_inflation_factor\n",
    "def calc_vif(X):\n",
    "    # Calculating VIF\n",
    "    vif = pd.DataFrame()\n",
    "    vif[\"variables\"] = X.columns\n",
    "    vif[\"VIF\"] = [variance_inflation_factor(X.values, i) for i in range(X.shape[1])]\n",
    "    return(vif)"
   ]
  },
  {
   "cell_type": "code",
   "execution_count": 12,
   "metadata": {},
   "outputs": [
    {
     "data": {
      "text/html": [
       "<div>\n",
       "<style scoped>\n",
       "    .dataframe tbody tr th:only-of-type {\n",
       "        vertical-align: middle;\n",
       "    }\n",
       "\n",
       "    .dataframe tbody tr th {\n",
       "        vertical-align: top;\n",
       "    }\n",
       "\n",
       "    .dataframe thead th {\n",
       "        text-align: right;\n",
       "    }\n",
       "</style>\n",
       "<table border=\"1\" class=\"dataframe\">\n",
       "  <thead>\n",
       "    <tr style=\"text-align: right;\">\n",
       "      <th></th>\n",
       "      <th>variables</th>\n",
       "      <th>VIF</th>\n",
       "    </tr>\n",
       "  </thead>\n",
       "  <tbody>\n",
       "    <tr>\n",
       "      <th>0</th>\n",
       "      <td>OilQual</td>\n",
       "      <td>1871.133491</td>\n",
       "    </tr>\n",
       "    <tr>\n",
       "      <th>1</th>\n",
       "      <td>EnginePerf</td>\n",
       "      <td>2175.801560</td>\n",
       "    </tr>\n",
       "    <tr>\n",
       "      <th>2</th>\n",
       "      <td>NormMileage</td>\n",
       "      <td>1952.837485</td>\n",
       "    </tr>\n",
       "    <tr>\n",
       "      <th>3</th>\n",
       "      <td>TyreWear</td>\n",
       "      <td>2142.231267</td>\n",
       "    </tr>\n",
       "    <tr>\n",
       "      <th>4</th>\n",
       "      <td>HVACwear</td>\n",
       "      <td>1245.953257</td>\n",
       "    </tr>\n",
       "  </tbody>\n",
       "</table>\n",
       "</div>"
      ],
      "text/plain": [
       "     variables          VIF\n",
       "0      OilQual  1871.133491\n",
       "1   EnginePerf  2175.801560\n",
       "2  NormMileage  1952.837485\n",
       "3     TyreWear  2142.231267\n",
       "4     HVACwear  1245.953257"
      ]
     },
     "execution_count": 12,
     "metadata": {},
     "output_type": "execute_result"
    }
   ],
   "source": [
    "X = service_data.iloc[:,:-1]\n",
    "calc_vif(X)"
   ]
  },
  {
   "cell_type": "markdown",
   "metadata": {},
   "source": [
    "#### Highest value of VIF is for EnginePerf"
   ]
  },
  {
   "cell_type": "markdown",
   "metadata": {},
   "source": [
    "#### Encode categorical variable Service,Requires Service:1(Positive class) and Does not require Service:0(Negative class)"
   ]
  },
  {
   "cell_type": "code",
   "execution_count": 13,
   "metadata": {},
   "outputs": [
    {
     "data": {
      "text/plain": [
       "0      0\n",
       "1      0\n",
       "2      0\n",
       "3      0\n",
       "4      0\n",
       "      ..\n",
       "130    0\n",
       "131    0\n",
       "132    1\n",
       "133    0\n",
       "134    0\n",
       "Name: Service, Length: 135, dtype: int64"
      ]
     },
     "execution_count": 13,
     "metadata": {},
     "output_type": "execute_result"
    }
   ],
   "source": [
    "service_data['Service']=service_data['Service'].map({'Yes':1,'No':0})\n",
    "service_data['Service']"
   ]
  },
  {
   "cell_type": "markdown",
   "metadata": {},
   "source": [
    "## Classifying the model using Logistic Regression and finding its prediction accuracy,Recall,F1 Score and ROC-AUC metrics"
   ]
  },
  {
   "cell_type": "markdown",
   "metadata": {},
   "source": [
    "#### Since multicollinearity is present,we can either drop variables and check for accuracy and f1-score(as dataset is imbalanced) and find an ideal combination or use PCA and reduce features in such way that the resultant features are not correlated and then do modeling with Logistic Regression.\n",
    "#### Here I am using all features,reduce those using PCA,and then applying Logistic Regression."
   ]
  },
  {
   "cell_type": "code",
   "execution_count": 14,
   "metadata": {},
   "outputs": [],
   "source": [
    "features=list(service_data.columns)\n",
    "features.remove('Service')\n",
    "x=service_data[features].values\n",
    "y=service_data['Service'].values"
   ]
  },
  {
   "cell_type": "markdown",
   "metadata": {},
   "source": [
    "##### While making a train,test split to ensure that both classes are represented in the same proportion as in the given dataset use stratify=y argument.This is especially important when classes are imbalanced"
   ]
  },
  {
   "cell_type": "code",
   "execution_count": 15,
   "metadata": {},
   "outputs": [],
   "source": [
    "train_x,test_x,train_y,test_y=train_test_split(x,y,test_size=0.3,random_state=0,stratify=y)"
   ]
  },
  {
   "cell_type": "code",
   "execution_count": 16,
   "metadata": {
    "scrolled": true
   },
   "outputs": [
    {
     "data": {
      "text/plain": [
       "['OilQual', 'EnginePerf', 'NormMileage', 'TyreWear', 'HVACwear']"
      ]
     },
     "execution_count": 16,
     "metadata": {},
     "output_type": "execute_result"
    }
   ],
   "source": [
    "features"
   ]
  },
  {
   "cell_type": "markdown",
   "metadata": {},
   "source": [
    "#### FIrst standardize,then do PCA and then Logistic Regression.This can be assigned to a pipeline so that this gets completed together in a stretch."
   ]
  },
  {
   "cell_type": "code",
   "execution_count": 17,
   "metadata": {},
   "outputs": [],
   "source": [
    "# Creating an scaler object\n",
    "std_slc = StandardScaler()\n",
    "\n",
    "# Creating a pca object\n",
    "pca = decomposition.PCA(random_state=0)\n",
    "\n",
    "# Creating a logistic regression object\n",
    "logistic_Reg = linear_model.LogisticRegression(random_state=0)"
   ]
  },
  {
   "cell_type": "code",
   "execution_count": 18,
   "metadata": {},
   "outputs": [],
   "source": [
    "# Creating a pipeline of three steps. First, standardizing the data.\n",
    "# Second, tranforming the data with PCA.\n",
    "# Third, training a logistic regression on the data.\n",
    "pipe = Pipeline(steps=[('std_slc', std_slc),('pca', pca),('logistic_Reg', logistic_Reg)])"
   ]
  },
  {
   "cell_type": "markdown",
   "metadata": {},
   "source": [
    "#### Now we need to find the best parameter values for PCA's ncomponents and Logistic Regression's C and penalty which are used for regularization.\n",
    "#### This is done using hyperparameter tuning method by using GridSearchCV.\n",
    "#### GridSearchCV finds the best hyperparameter by applying StratifiedKFold Cross Validation.\n",
    "#### Here k or number of folds used is 10"
   ]
  },
  {
   "cell_type": "code",
   "execution_count": 19,
   "metadata": {},
   "outputs": [],
   "source": [
    "# Creating Parameter Space\n",
    "# Creating a list of a sequence of integers from 1 to 5 (the number of features in train_x + 1)\n",
    "n_components = list(range(1,train_x.shape[1]+1,1))\n",
    "penalty = ['l1', 'l2'] # l1 lasso l2 ridge\n",
    "C = np.logspace(-3,3,7) #penalty values for regularization [0.001, 0.01, 0.1, 1, 10, 100, 1000]"
   ]
  },
  {
   "cell_type": "code",
   "execution_count": 20,
   "metadata": {},
   "outputs": [],
   "source": [
    "grid=dict(pca__n_components=n_components,\n",
    "        logistic_Reg__C=C,\n",
    "        logistic_Reg__penalty=penalty)"
   ]
  },
  {
   "cell_type": "markdown",
   "metadata": {},
   "source": [
    "#### cv refers to number of folds to cross-validate"
   ]
  },
  {
   "cell_type": "code",
   "execution_count": 21,
   "metadata": {},
   "outputs": [],
   "source": [
    "# Creating a grid search object\n",
    "clf_GS = GridSearchCV(pipe,grid,cv=10,scoring='roc_auc')"
   ]
  },
  {
   "cell_type": "code",
   "execution_count": 22,
   "metadata": {},
   "outputs": [
    {
     "data": {
      "text/plain": [
       "GridSearchCV(cv=10,\n",
       "             estimator=Pipeline(steps=[('std_slc', StandardScaler()),\n",
       "                                       ('pca', PCA(random_state=0)),\n",
       "                                       ('logistic_Reg',\n",
       "                                        LogisticRegression(random_state=0))]),\n",
       "             param_grid={'logistic_Reg__C': array([1.e-03, 1.e-02, 1.e-01, 1.e+00, 1.e+01, 1.e+02, 1.e+03]),\n",
       "                         'logistic_Reg__penalty': ['l1', 'l2'],\n",
       "                         'pca__n_components': [1, 2, 3, 4, 5]},\n",
       "             scoring='roc_auc')"
      ]
     },
     "execution_count": 22,
     "metadata": {},
     "output_type": "execute_result"
    }
   ],
   "source": [
    "# Fitting the grid search\n",
    "clf_GS.fit(train_x, train_y)"
   ]
  },
  {
   "cell_type": "code",
   "execution_count": 23,
   "metadata": {
    "scrolled": true
   },
   "outputs": [
    {
     "name": "stdout",
     "output_type": "stream",
     "text": [
      "Best Penalty: {'memory': None, 'steps': [('std_slc', StandardScaler()), ('pca', PCA(n_components=4, random_state=0)), ('logistic_Reg', LogisticRegression(C=1000.0, random_state=0))], 'verbose': False, 'std_slc': StandardScaler(), 'pca': PCA(n_components=4, random_state=0), 'logistic_Reg': LogisticRegression(C=1000.0, random_state=0), 'std_slc__copy': True, 'std_slc__with_mean': True, 'std_slc__with_std': True, 'pca__copy': True, 'pca__iterated_power': 'auto', 'pca__n_components': 4, 'pca__random_state': 0, 'pca__svd_solver': 'auto', 'pca__tol': 0.0, 'pca__whiten': False, 'logistic_Reg__C': 1000.0, 'logistic_Reg__class_weight': None, 'logistic_Reg__dual': False, 'logistic_Reg__fit_intercept': True, 'logistic_Reg__intercept_scaling': 1, 'logistic_Reg__l1_ratio': None, 'logistic_Reg__max_iter': 100, 'logistic_Reg__multi_class': 'auto', 'logistic_Reg__n_jobs': None, 'logistic_Reg__penalty': 'l2', 'logistic_Reg__random_state': 0, 'logistic_Reg__solver': 'lbfgs', 'logistic_Reg__tol': 0.0001, 'logistic_Reg__verbose': 0, 'logistic_Reg__warm_start': False}\n",
      "Tuned hyerparameters :(best parameters)  {'logistic_Reg__C': 1000.0, 'logistic_Reg__penalty': 'l2', 'pca__n_components': 4}\n",
      "Accuracy : 0.980952380952381\n"
     ]
    }
   ],
   "source": [
    "# Viewing The Best Parameters\n",
    "print('Best Penalty:', clf_GS.best_estimator_.get_params())\n",
    "print(\"Tuned hyerparameters :(best parameters) \",clf_GS.best_params_)\n",
    "print(\"Accuracy :\",clf_GS.best_score_)"
   ]
  },
  {
   "cell_type": "markdown",
   "metadata": {},
   "source": [
    "#### The best hyperparameters are ncomponents=4 for PCA,C=1000.0 and penalty=l2 for Logistic Regression.Applying those parameters to the pipeline"
   ]
  },
  {
   "cell_type": "code",
   "execution_count": 24,
   "metadata": {},
   "outputs": [],
   "source": [
    "pipeline_lr=Pipeline([('scalar1',StandardScaler()),\n",
    "                     ('pca1',PCA(n_components=4,random_state=0)), \n",
    "                     ('lr1',LogisticRegression(C=1000.0,penalty=\"l2\",random_state=0))])"
   ]
  },
  {
   "cell_type": "code",
   "execution_count": 25,
   "metadata": {
    "scrolled": true
   },
   "outputs": [
    {
     "data": {
      "text/plain": [
       "Pipeline(steps=[('scalar1', StandardScaler()),\n",
       "                ('pca1', PCA(n_components=4, random_state=0)),\n",
       "                ('lr1', LogisticRegression(C=1000.0, random_state=0))])"
      ]
     },
     "execution_count": 25,
     "metadata": {},
     "output_type": "execute_result"
    }
   ],
   "source": [
    "pipeline_lr.fit(train_x, train_y)"
   ]
  },
  {
   "cell_type": "code",
   "execution_count": 26,
   "metadata": {
    "scrolled": false
   },
   "outputs": [
    {
     "name": "stdout",
     "output_type": "stream",
     "text": [
      "Accuracy of Logistic Regression model in %: 90.2439024390244\n"
     ]
    }
   ],
   "source": [
    "print(\"Accuracy of Logistic Regression model in %:\",pipeline_lr.score(test_x, test_y)*100)"
   ]
  },
  {
   "cell_type": "code",
   "execution_count": 53,
   "metadata": {},
   "outputs": [
    {
     "name": "stdout",
     "output_type": "stream",
     "text": [
      "Accuracy of Logistic Regression model in training set %: 90.42553191489363\n"
     ]
    }
   ],
   "source": [
    "print(\"Accuracy of Logistic Regression model in training set %:\",pipeline_lr.score(train_x, train_y)*100)"
   ]
  },
  {
   "cell_type": "markdown",
   "metadata": {},
   "source": [
    "#### Accuracy of model is 90.24% with optimized hyperparameters\n",
    "#### But as dataset is imbalanced,accuracy is not the good metric to measure goodness of model"
   ]
  },
  {
   "cell_type": "code",
   "execution_count": 27,
   "metadata": {},
   "outputs": [
    {
     "data": {
      "text/plain": [
       "array([0, 0, 0, 0, 0, 0, 1, 1, 1, 0, 0, 1, 1, 0, 0, 0, 0, 0, 0, 0, 0, 0,\n",
       "       0, 0, 0, 0, 0, 0, 0, 0, 0, 1, 0, 0, 0, 0, 0, 1, 0, 0, 0],\n",
       "      dtype=int64)"
      ]
     },
     "execution_count": 27,
     "metadata": {},
     "output_type": "execute_result"
    }
   ],
   "source": [
    "prediction=pipeline_lr.predict(test_x)\n",
    "prediction"
   ]
  },
  {
   "cell_type": "code",
   "execution_count": 28,
   "metadata": {
    "scrolled": true
   },
   "outputs": [
    {
     "data": {
      "text/plain": [
       "<sklearn.metrics._plot.confusion_matrix.ConfusionMatrixDisplay at 0x2068cd484f0>"
      ]
     },
     "execution_count": 28,
     "metadata": {},
     "output_type": "execute_result"
    },
    {
     "data": {
      "image/png": "[encoded data removed]",
      "text/plain": [
       "<Figure size 432x288 with 2 Axes>"
      ]
     },
     "metadata": {
      "needs_background": "light"
     },
     "output_type": "display_data"
    }
   ],
   "source": [
    "from sklearn.metrics import plot_confusion_matrix\n",
    "plot_confusion_matrix(pipeline_lr, test_x, test_y)  "
   ]
  },
  {
   "cell_type": "code",
   "execution_count": 29,
   "metadata": {},
   "outputs": [
    {
     "name": "stdout",
     "output_type": "stream",
     "text": [
      "Misclassified samples:4\n"
     ]
    }
   ],
   "source": [
    "print('Misclassified samples:%d'%(test_y!=prediction).sum())"
   ]
  },
  {
   "cell_type": "markdown",
   "metadata": {},
   "source": [
    "#### For imbalanced data,accuracy is not a good metric to determine goodness of model.\n",
    "#### F1-Score and ROC AUC Scores are the good metrics.\n",
    "#### Recall and F1 score should be better in this scenario because if we classify a vehicle that needs service as need not be serviced,it can lead to road accidents.We should minimize False Negatives.Recall is 64% and F1 score is 78% for vehicles that needs service"
   ]
  },
  {
   "cell_type": "code",
   "execution_count": 30,
   "metadata": {},
   "outputs": [
    {
     "name": "stdout",
     "output_type": "stream",
     "text": [
      "              precision    recall  f1-score   support\n",
      "\n",
      "           0       0.88      1.00      0.94        30\n",
      "           1       1.00      0.64      0.78        11\n",
      "\n",
      "    accuracy                           0.90        41\n",
      "   macro avg       0.94      0.82      0.86        41\n",
      "weighted avg       0.91      0.90      0.89        41\n",
      "\n"
     ]
    }
   ],
   "source": [
    "report=classification_report(test_y,prediction)\n",
    "print(report)"
   ]
  },
  {
   "cell_type": "markdown",
   "metadata": {},
   "source": [
    "#### The ROC Curve gives an idea for adjusting threshold.The best value of operating point should be to the top left where Recall will be high and False positive rate would be low.Here for 0.9 Recall and 0.1 FPR,would be the best operating point.\n",
    "#### ROC curve can be summarized by area under the curve or AUC or ROC AUC Score."
   ]
  },
  {
   "cell_type": "code",
   "execution_count": 31,
   "metadata": {},
   "outputs": [
    {
     "data": {
      "text/plain": [
       "<matplotlib.legend.Legend at 0x2068ea422e0>"
      ]
     },
     "execution_count": 31,
     "metadata": {},
     "output_type": "execute_result"
    },
    {
     "data": {
      "image/png": "[encoded data removed]",
      "text/plain": [
       "<Figure size 432x288 with 1 Axes>"
      ]
     },
     "metadata": {
      "needs_background": "light"
     },
     "output_type": "display_data"
    }
   ],
   "source": [
    "from sklearn.metrics import roc_curve\n",
    "fpr, tpr, thresholds = roc_curve(test_y, pipeline_lr.decision_function(test_x))\n",
    "plt.title(\"ROC Curve\")\n",
    "plt.plot(fpr, tpr, label=\"ROC Curve\")\n",
    "plt.xlabel(\"False Positive Rate\")\n",
    "plt.ylabel(\"True Positive Rate (Recall)\")\n",
    "# find threshold closest to zero\n",
    "close_zero = np.argmin(np.abs(thresholds))\n",
    "plt.plot(fpr[close_zero], tpr[close_zero], 'o', markersize=10,\n",
    "label=\"threshold zero\", fillstyle=\"none\", c='k', mew=2)\n",
    "plt.legend(loc=4)"
   ]
  },
  {
   "cell_type": "code",
   "execution_count": 32,
   "metadata": {},
   "outputs": [
    {
     "name": "stdout",
     "output_type": "stream",
     "text": [
      "Logistic Regression ROC AUC Score:  97.57575757575758 %\n"
     ]
    }
   ],
   "source": [
    "from sklearn.metrics import roc_auc_score\n",
    "print(\"Logistic Regression ROC AUC Score: \",roc_auc_score(test_y, pipeline_lr.decision_function(test_x) )*100,\"%\")"
   ]
  },
  {
   "cell_type": "markdown",
   "metadata": {},
   "source": [
    "#### The model with maximum AUC score would be the best model especially for imbalanced classes.Here AUC Score is 97.57% which is good"
   ]
  },
  {
   "cell_type": "markdown",
   "metadata": {},
   "source": [
    "## Classifying the model using KNN Algorithm and finding its prediction accuracy"
   ]
  },
  {
   "cell_type": "markdown",
   "metadata": {},
   "source": [
    "#### KNN is a non-parametric method and hence does not make any assumption about data or its distribution and hence we can proceed directly with the algorithm.\n",
    "#### Imbalanced dataset again should be balanced by Sampling techniques/SMOTE/XG Boost before doing modeling.\n",
    "#### Here I used the same imbalanced dataset but used corresponding metrics like F1 Score and AUC Score for determining goodness of model.\n",
    "#### But as we know there is an inherent multicollinearity in the model,it would be good to apply PCA and then do KNN. Multicollinearity would cause points to be closer in data space and may lead to overfitting\n"
   ]
  },
  {
   "cell_type": "code",
   "execution_count": 33,
   "metadata": {},
   "outputs": [],
   "source": [
    "features=list(service_data.columns)\n",
    "features.remove('Service')\n",
    "x1=service_data[features].values\n",
    "y1=service_data['Service'].values"
   ]
  },
  {
   "cell_type": "markdown",
   "metadata": {},
   "source": [
    "#### The ideal k value should be odd especially when it is a binary classification\n",
    "#### For imbalanced datasets,stratify=y is used to make the training and test samples representative of the original dataset."
   ]
  },
  {
   "cell_type": "code",
   "execution_count": 34,
   "metadata": {},
   "outputs": [],
   "source": [
    "train_x,test_x,train_y,test_y=train_test_split(x1,y1,test_size=0.3,random_state=99,stratify=y)"
   ]
  },
  {
   "cell_type": "markdown",
   "metadata": {},
   "source": [
    "#### FIrst standardize,then do PCA and then KNN.This can be assigned to a pipeline so that this gets completed together in a stretch."
   ]
  },
  {
   "cell_type": "code",
   "execution_count": 35,
   "metadata": {},
   "outputs": [],
   "source": [
    "# Creating an scaler object\n",
    "std_slc = StandardScaler()\n",
    "\n",
    "# Creating a pca object\n",
    "pca = decomposition.PCA(random_state=0)\n",
    "\n",
    "# Creating a KNN object\n",
    "KNN_classifier=KNeighborsClassifier()"
   ]
  },
  {
   "cell_type": "code",
   "execution_count": 36,
   "metadata": {},
   "outputs": [],
   "source": [
    "# Creating a pipeline of three steps. First, standardizing the data.\n",
    "# Second, tranforming the data with PCA.\n",
    "# Third, training a logistic regression on the data.\n",
    "pipe = Pipeline(steps=[('std_slc', std_slc),('pca', pca),('knn', KNN_classifier)])"
   ]
  },
  {
   "cell_type": "code",
   "execution_count": 37,
   "metadata": {},
   "outputs": [],
   "source": [
    "# Creating Parameter Space\n",
    "# Creating a list of a sequence of integers from 1 to 5 (the number of features in train_x + 1)\n",
    "n_components = list(range(1,train_x.shape[1]+1,1))\n",
    "k_range = list(range(3, 11)) #n_neighbours"
   ]
  },
  {
   "cell_type": "markdown",
   "metadata": {},
   "source": [
    "#### Now we need to find the best parameter values for PCA's ncomponents and KNN's n_neighbors\n",
    "#### This is done using hyperparameter tuning method by using GridSearchCV.\n",
    "#### GridSearchCV finds the best hyperparameter by applying StratifiedKFold Cross Validation.\n",
    "#### Here k or number of folds used is 10"
   ]
  },
  {
   "cell_type": "code",
   "execution_count": 38,
   "metadata": {},
   "outputs": [],
   "source": [
    "grid=dict(pca__n_components=n_components,knn__n_neighbors=k_range)"
   ]
  },
  {
   "cell_type": "code",
   "execution_count": 39,
   "metadata": {},
   "outputs": [
    {
     "data": {
      "text/plain": [
       "{'pca__n_components': [1, 2, 3, 4, 5],\n",
       " 'knn__n_neighbors': [3, 4, 5, 6, 7, 8, 9, 10]}"
      ]
     },
     "execution_count": 39,
     "metadata": {},
     "output_type": "execute_result"
    }
   ],
   "source": [
    "grid"
   ]
  },
  {
   "cell_type": "code",
   "execution_count": 40,
   "metadata": {},
   "outputs": [],
   "source": [
    "# Creating a grid search object\n",
    "knn_GS = GridSearchCV(pipe,grid,cv=10)"
   ]
  },
  {
   "cell_type": "code",
   "execution_count": 41,
   "metadata": {},
   "outputs": [
    {
     "data": {
      "text/plain": [
       "GridSearchCV(cv=10,\n",
       "             estimator=Pipeline(steps=[('std_slc', StandardScaler()),\n",
       "                                       ('pca', PCA(random_state=0)),\n",
       "                                       ('knn', KNeighborsClassifier())]),\n",
       "             param_grid={'knn__n_neighbors': [3, 4, 5, 6, 7, 8, 9, 10],\n",
       "                         'pca__n_components': [1, 2, 3, 4, 5]})"
      ]
     },
     "execution_count": 41,
     "metadata": {},
     "output_type": "execute_result"
    }
   ],
   "source": [
    "# Fitting the grid search\n",
    "knn_GS.fit(train_x, train_y)"
   ]
  },
  {
   "cell_type": "code",
   "execution_count": 42,
   "metadata": {},
   "outputs": [
    {
     "name": "stdout",
     "output_type": "stream",
     "text": [
      "Tuned hyerparameters :(best parameters)  {'knn__n_neighbors': 3, 'pca__n_components': 1}\n",
      "Accuracy : 1.0\n"
     ]
    }
   ],
   "source": [
    "# Viewing The Best Parameters\n",
    "#print('Best Penalty:', knn_GS.best_estimator_.get_params())\n",
    "print(\"Tuned hyerparameters :(best parameters) \",knn_GS.best_params_)\n",
    "print(\"Accuracy :\",knn_GS.best_score_)"
   ]
  },
  {
   "cell_type": "markdown",
   "metadata": {},
   "source": [
    "#### The best hyperparameters are ncomponents=1 for PCA,n_neighbors=3 for KNN.Applying those parameters to the pipeline"
   ]
  },
  {
   "cell_type": "code",
   "execution_count": 43,
   "metadata": {},
   "outputs": [],
   "source": [
    "pipeline_knn=Pipeline([('scalar1',StandardScaler()),\n",
    "                     ('pca1',PCA(n_components=1,random_state=0)), \n",
    "                     ('knn1',KNeighborsClassifier(n_neighbors=3))])"
   ]
  },
  {
   "cell_type": "code",
   "execution_count": 44,
   "metadata": {},
   "outputs": [
    {
     "data": {
      "text/plain": [
       "Pipeline(steps=[('scalar1', StandardScaler()),\n",
       "                ('pca1', PCA(n_components=1, random_state=0)),\n",
       "                ('knn1', KNeighborsClassifier(n_neighbors=3))])"
      ]
     },
     "execution_count": 44,
     "metadata": {},
     "output_type": "execute_result"
    }
   ],
   "source": [
    "pipeline_knn.fit(train_x, train_y)"
   ]
  },
  {
   "cell_type": "code",
   "execution_count": 45,
   "metadata": {
    "scrolled": true
   },
   "outputs": [
    {
     "name": "stdout",
     "output_type": "stream",
     "text": [
      "Accuracy of KNN model in %: 100.0\n"
     ]
    }
   ],
   "source": [
    "print(\"Accuracy of KNN model in %:\",pipeline_knn.score(test_x, test_y)*100)\n",
    "prediction=pipeline_knn.predict(test_x)"
   ]
  },
  {
   "cell_type": "code",
   "execution_count": 46,
   "metadata": {},
   "outputs": [
    {
     "name": "stdout",
     "output_type": "stream",
     "text": [
      "Accuracy of KNN model in training set %: 100.0\n"
     ]
    }
   ],
   "source": [
    "print(\"Accuracy of KNN model in training set %:\",pipeline_knn.score(train_x, train_y)*100)"
   ]
  },
  {
   "cell_type": "markdown",
   "metadata": {},
   "source": [
    "#### Accuracy of model is 100 % with optimized hyperparameters\n",
    "#### Hence recall and F1 Score would be 100 % as well.That means no false negatives and false positives"
   ]
  },
  {
   "cell_type": "code",
   "execution_count": 47,
   "metadata": {},
   "outputs": [
    {
     "data": {
      "text/plain": [
       "<sklearn.metrics._plot.confusion_matrix.ConfusionMatrixDisplay at 0x2068eb36e20>"
      ]
     },
     "execution_count": 47,
     "metadata": {},
     "output_type": "execute_result"
    },
    {
     "data": {
      "image/png": "[encoded data removed]",
      "text/plain": [
       "<Figure size 432x288 with 2 Axes>"
      ]
     },
     "metadata": {
      "needs_background": "light"
     },
     "output_type": "display_data"
    }
   ],
   "source": [
    "from sklearn.metrics import plot_confusion_matrix\n",
    "plot_confusion_matrix(pipeline_knn, test_x, test_y)  "
   ]
  },
  {
   "cell_type": "code",
   "execution_count": 48,
   "metadata": {},
   "outputs": [
    {
     "name": "stdout",
     "output_type": "stream",
     "text": [
      "              precision    recall  f1-score   support\n",
      "\n",
      "           0       1.00      1.00      1.00        30\n",
      "           1       1.00      1.00      1.00        11\n",
      "\n",
      "    accuracy                           1.00        41\n",
      "   macro avg       1.00      1.00      1.00        41\n",
      "weighted avg       1.00      1.00      1.00        41\n",
      "\n"
     ]
    }
   ],
   "source": [
    "report1=classification_report(test_y,prediction)\n",
    "print(report1)"
   ]
  },
  {
   "cell_type": "code",
   "execution_count": 49,
   "metadata": {
    "scrolled": false
   },
   "outputs": [
    {
     "name": "stdout",
     "output_type": "stream",
     "text": [
      "Misclassified samples:0\n"
     ]
    }
   ],
   "source": [
    "print('Misclassified samples:%d'%(test_y!=prediction).sum())"
   ]
  },
  {
   "cell_type": "code",
   "execution_count": 50,
   "metadata": {},
   "outputs": [
    {
     "data": {
      "text/plain": [
       "array([0., 0., 0., 0., 0., 0., 0., 1., 0., 1., 1., 0., 1., 1., 0., 0., 0.,\n",
       "       0., 0., 0., 0., 0., 1., 0., 1., 1., 1., 0., 0., 1., 0., 0., 0., 0.,\n",
       "       0., 1., 0., 0., 0., 0., 0.])"
      ]
     },
     "execution_count": 50,
     "metadata": {},
     "output_type": "execute_result"
    }
   ],
   "source": [
    "pipeline_knn.predict_proba(test_x)[:,1]"
   ]
  },
  {
   "cell_type": "code",
   "execution_count": 51,
   "metadata": {},
   "outputs": [
    {
     "data": {
      "text/plain": [
       "<matplotlib.legend.Legend at 0x2068ebcdfa0>"
      ]
     },
     "execution_count": 51,
     "metadata": {},
     "output_type": "execute_result"
    },
    {
     "data": {
      "image/png": "[encoded data removed]",
      "text/plain": [
       "<Figure size 432x288 with 1 Axes>"
      ]
     },
     "metadata": {
      "needs_background": "light"
     },
     "output_type": "display_data"
    }
   ],
   "source": [
    "from sklearn.metrics import roc_curve\n",
    "fpr, tpr, thresholds = roc_curve(test_y, pipeline_knn.predict_proba(test_x)[:,1])\n",
    "plt.title(\"ROC Curve\")\n",
    "plt.plot(fpr, tpr, label=\"ROC Curve\")\n",
    "plt.xlabel(\"False Positive Rate\")\n",
    "plt.ylabel(\"True Positive Rate (Recall)\")\n",
    "# find threshold closest to zero\n",
    "close_zero = np.argmin(np.abs(thresholds))\n",
    "plt.plot(fpr[close_zero], tpr[close_zero], 'o', markersize=10,\n",
    "label=\"threshold zero\", fillstyle=\"none\", c='k', mew=2)\n",
    "plt.legend(loc=4)"
   ]
  },
  {
   "cell_type": "code",
   "execution_count": 52,
   "metadata": {},
   "outputs": [
    {
     "name": "stdout",
     "output_type": "stream",
     "text": [
      "KNN ROC AUC Score:  100.0 %\n"
     ]
    }
   ],
   "source": [
    "from sklearn.metrics import roc_auc_score\n",
    "print(\"KNN ROC AUC Score: \",roc_auc_score(test_y, pipeline_knn.predict_proba(test_x)[:,1])*100,\"%\")"
   ]
  },
  {
   "cell_type": "markdown",
   "metadata": {},
   "source": [
    "#### As expected KNN ROC AUC Score is also 100% which shows this does the job perfectly"
   ]
  },
  {
   "cell_type": "markdown",
   "metadata": {},
   "source": [
    "## Final Inferences\n",
    "------------------"
   ]
  },
  {
   "cell_type": "markdown",
   "metadata": {},
   "source": [
    "### After examining Service parameters dataset,\n",
    "####     1. Dataset is clean and has no duplicates\n",
    "####     2. Dataset is imbalanced with vehicles requiring service being 27%(positive class) and rest 73%(negative class)\n",
    "####     3. Features have multicollinearity\n",
    "####     4. Features follow a near symmetric and normal distribution"
   ]
  },
  {
   "cell_type": "markdown",
   "metadata": {},
   "source": [
    "### While applying Logistic Regression,techniques used\n",
    "\n",
    "#### 1. While logistic regression is being used,ideally multicollinearity should be avoided.So for that PCA is used to reduce features in                such a way that resultant features are not correlated and then applied Logistic Regression.\n",
    "#### 2. For imbalanced data,instead of Accuracy,metrics used are F1-Score and ROC AUC Score.\n",
    "#### 3. GridSearchCV method is used for hyperparameter tuning of PCA and Logistic Regression with a StratifiedKFold with 10 folds.\n",
    "#### 4. Data should be standardized before applying PCA.Pipeline is used to apply standardization,PCA and logistic regression\n"
   ]
  },
  {
   "cell_type": "markdown",
   "metadata": {},
   "source": [
    "### While applying K Nearest Neighbours,techniques used\n",
    "\n",
    "#### 1. With KNN also,for avoiding inherent multicollinearity,PCA is used to reduce features in such a way that resultant features are                not correlated and then applied KNN.\n",
    "#### 2. For imbalanced data,instead of Accuracy,metrics used are F1-Score and ROC AUC Score.\n",
    "#### 3. GridSearchCV method is used for hyperparameter tuning of PCA and KNN with a StratifiedKFold with 10 folds.\n",
    "#### 4. Data should be standardized before applying PCA.Pipeline is used to apply standardization,PCA and KNN\n"
   ]
  },
  {
   "cell_type": "markdown",
   "metadata": {},
   "source": [
    "\n",
    "\n",
    "### Logistic Regression Metrics after hyperparameter tuning:\n",
    "-----------------------------------------------------------------------------------\n",
    "\n",
    "#### 1. Accuracy:90.24%\n",
    "#### 2. Recall for positive class:64%\n",
    "#### 3. F1-Score for positive class:78%\n",
    "#### 4. ROC AUC Score :97.27%"
   ]
  },
  {
   "cell_type": "markdown",
   "metadata": {},
   "source": [
    "\n",
    "\n",
    "### KNN Metrics after hyperparameter tuning:\n",
    "\n",
    "\n",
    "#### 1. Accuracy:100%\n",
    "#### 2. Recall for positive class:100%\n",
    "#### 3. F1-Score for positive class:100%\n",
    "#### 4. ROC AUC Score :100%"
   ]
  },
  {
   "cell_type": "markdown",
   "metadata": {},
   "source": [
    "## Conclusion\n",
    " *******************\n",
    "\n",
    "###   For this particular Service dataset,considering that the dataset is imbalanced and has an inherent multicollinearity-KNN is the best model that gives the best Recall,F1-Score and Area under the Curve(AUC).KNN is applied after reducing the features by PCA .Recall,F1-Score and AUC Score are preferred because we have to avoid/minimize FN(False Negatives).For this particular business scenario FN means predicting a car that 'needs service' as 'do not need service'.That can actually lead to road accidents."
   ]
  }
 ],
 "metadata": {
  "kernelspec": {
   "display_name": "Python 3",
   "language": "python",
   "name": "python3"
  },
  "language_info": {
   "codemirror_mode": {
    "name": "ipython",
    "version": 3
   },
   "file_extension": ".py",
   "mimetype": "text/x-python",
   "name": "python",
   "nbconvert_exporter": "python",
   "pygments_lexer": "ipython3",
   "version": "3.8.5"
  }
 },
 "nbformat": 4,
 "nbformat_minor": 4
}
